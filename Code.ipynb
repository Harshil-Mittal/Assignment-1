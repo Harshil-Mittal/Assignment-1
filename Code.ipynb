{
 "cells": [
  {
   "cell_type": "code",
   "execution_count": 2,
   "metadata": {
    "id": "9zz6IK2Y_6jh"
   },
   "outputs": [],
   "source": [
    "# Import necessary libraries\n",
    "import pandas as pd\n",
    "from sklearn.model_selection import train_test_split, cross_val_score\n",
    "from sklearn.preprocessing import StandardScaler\n",
    "from sklearn.linear_model import LogisticRegression\n",
    "from sklearn.tree import DecisionTreeClassifier\n",
    "from sklearn.ensemble import RandomForestClassifier\n",
    "from sklearn.metrics import accuracy_score, precision_score, recall_score, f1_score, roc_auc_score\n",
    "from imblearn.over_sampling import SMOTE"
   ]
  },
  {
   "cell_type": "code",
   "execution_count": 4,
   "metadata": {
    "colab": {
     "base_uri": "https://localhost:8080/"
    },
    "id": "ItWAYl7K_814",
    "outputId": "ebaca1ce-7663-4f33-c86b-f4212f2cf433"
   },
   "outputs": [
    {
     "name": "stdout",
     "output_type": "stream",
     "text": [
      "Data Sample:\n",
      "    id  age     sex    dataset               cp  trestbps   chol    fbs  \\\n",
      "0   1   63    Male  Cleveland   typical angina     145.0  233.0   True   \n",
      "1   2   67    Male  Cleveland     asymptomatic     160.0  286.0  False   \n",
      "2   3   67    Male  Cleveland     asymptomatic     120.0  229.0  False   \n",
      "3   4   37    Male  Cleveland      non-anginal     130.0  250.0  False   \n",
      "4   5   41  Female  Cleveland  atypical angina     130.0  204.0  False   \n",
      "\n",
      "          restecg  thalch  exang  oldpeak        slope   ca  \\\n",
      "0  lv hypertrophy   150.0  False      2.3  downsloping  0.0   \n",
      "1  lv hypertrophy   108.0   True      1.5         flat  3.0   \n",
      "2  lv hypertrophy   129.0   True      2.6         flat  2.0   \n",
      "3          normal   187.0  False      3.5  downsloping  0.0   \n",
      "4  lv hypertrophy   172.0  False      1.4    upsloping  0.0   \n",
      "\n",
      "                thal  num  \n",
      "0       fixed defect    0  \n",
      "1             normal    2  \n",
      "2  reversable defect    1  \n",
      "3             normal    0  \n",
      "4             normal    0  \n"
     ]
    }
   ],
   "source": [
    "# Step 1: Data Acquisition\n",
    "# Load the Heart Disease UCI dataset\n",
    "data = pd.read_csv('heart.csv')\n",
    "print(\"Data Sample:\\n\", data.head())"
   ]
  },
  {
   "cell_type": "code",
   "execution_count": null,
   "metadata": {
    "id": "ErHmTr8b_-0Z"
   },
   "outputs": [],
   "source": [
    "# Step 2: Define Methodology and Objectives\n",
    "# Objective: Predict heart disease risk based on health metrics to support SDG 3.\n",
    "# Methodology: Explore data, preprocess, use classification models, and evaluate results."
   ]
  },
  {
   "cell_type": "code",
   "execution_count": 5,
   "metadata": {
    "id": "VDP3XSt_Ao9i"
   },
   "outputs": [
    {
     "name": "stdout",
     "output_type": "stream",
     "text": [
      "\n",
      "Missing Values:\n",
      " id            0\n",
      "age           0\n",
      "sex           0\n",
      "dataset       0\n",
      "cp            0\n",
      "trestbps     59\n",
      "chol         30\n",
      "fbs          90\n",
      "restecg       2\n",
      "thalch       55\n",
      "exang        55\n",
      "oldpeak      62\n",
      "slope       309\n",
      "ca          611\n",
      "thal        486\n",
      "num           0\n",
      "dtype: int64\n",
      "\n",
      "Missing Values:\n",
      " id                          0\n",
      "age                         0\n",
      "trestbps                    0\n",
      "chol                        0\n",
      "thalch                      0\n",
      "oldpeak                     0\n",
      "ca                          0\n",
      "num                         0\n",
      "sex_Male                    0\n",
      "dataset_Hungary             0\n",
      "dataset_Switzerland         0\n",
      "dataset_VA Long Beach       0\n",
      "cp_atypical angina          0\n",
      "cp_non-anginal              0\n",
      "cp_typical angina           0\n",
      "fbs_True                    0\n",
      "restecg_normal              0\n",
      "restecg_st-t abnormality    0\n",
      "exang_True                  0\n",
      "slope_flat                  0\n",
      "slope_upsloping             0\n",
      "thal_normal                 0\n",
      "thal_reversable defect      0\n",
      "dtype: int64\n"
     ]
    }
   ],
   "source": [
    "# Step 3: Data Preprocessing\n",
    "# 3.1 Check for missing values\n",
    "print(\"\\nMissing Values:\\n\", data.isnull().sum())\n",
    "\n",
    "# 3.3 Encode categorical variables if present\n",
    "data = pd.get_dummies(data, drop_first=True)\n",
    "\n",
    "# 3.2 Fill missing values with column medians\n",
    "data.fillna(data.median(), inplace=True)\n",
    "\n",
    "# 3.4 Separate features and target variable\n",
    "X = data.drop('num', axis=1)  # Features\n",
    "y = data['num']  # Target variable\n",
    "\n",
    "# Convert 'num' to binary classification: 0 (No disease), 1 (Disease)\n",
    "y = y.apply(lambda x: 1 if x > 0 else 0)\n",
    "\n",
    "# 3.5 Handle class imbalance using SMOTE\n",
    "smote = SMOTE()\n",
    "X_res, y_res = smote.fit_resample(X, y)\n",
    "\n",
    "# 3.6 Standardize the features for better model performance\n",
    "scaler = StandardScaler()\n",
    "X_res = scaler.fit_transform(X_res)\n",
    "\n",
    "print(\"\\nMissing Values:\\n\", data.isnull().sum())"
   ]
  },
  {
   "cell_type": "code",
   "execution_count": 6,
   "metadata": {
    "colab": {
     "base_uri": "https://localhost:8080/"
    },
    "id": "2zhX58izAGwN",
    "outputId": "c58c6946-6011-4de0-efff-f6fec32f045e"
   },
   "outputs": [
    {
     "name": "stdout",
     "output_type": "stream",
     "text": [
      "\n",
      "Model Validation Results (Accuracy):\n",
      "Logistic Regression - Accuracy: 0.80\n",
      "Decision Tree - Accuracy: 0.72\n",
      "Random Forest - Accuracy: 0.80\n"
     ]
    }
   ],
   "source": [
    "# Step 4: Model Selection and Validation\n",
    "# Define models to evaluate\n",
    "models = {\n",
    "    'Logistic Regression': LogisticRegression(),\n",
    "    'Decision Tree': DecisionTreeClassifier(),\n",
    "    'Random Forest': RandomForestClassifier()\n",
    "}\n",
    "\n",
    "# Perform K-Fold Cross Validation to evaluate each model\n",
    "print(\"\\nModel Validation Results (Accuracy):\")\n",
    "for model_name, model in models.items():\n",
    "    scores = cross_val_score(model, X_res, y_res, cv=10, scoring='accuracy')\n",
    "    print(f\"{model_name} - Accuracy: {scores.mean():.2f}\")\n"
   ]
  },
  {
   "cell_type": "code",
   "execution_count": null,
   "metadata": {},
   "outputs": [
    {
     "name": "stdout",
     "output_type": "stream",
     "text": [
      "\n",
      "Detailed Model Evaluation:\n",
      "\n",
      "Logistic Regression Results:\n",
      "Accuracy: 0.85\n",
      "Precision: 0.88\n",
      "Recall: 0.83\n",
      "F1-Score: 0.86\n",
      "AUC Score: 0.94\n",
      "\n",
      "Decision Tree Results:\n",
      "Accuracy: 0.81\n",
      "Precision: 0.84\n",
      "Recall: 0.80\n",
      "F1-Score: 0.82\n",
      "AUC Score: 0.81\n",
      "\n",
      "Random Forest Results:\n",
      "Accuracy: 0.89\n",
      "Precision: 0.91\n",
      "Recall: 0.87\n",
      "F1-Score: 0.89\n",
      "AUC Score: 0.95\n"
     ]
    }
   ],
   "source": [
    "# Step 5: Comparing Results with Multiple Metrics\n",
    "# Split the data into train and test sets for evaluation\n",
    "X_train, X_test, y_train, y_test = train_test_split(X_res, y_res, test_size=0.2, random_state=42)\n",
    "\n",
    "# Train and evaluate each model on the test set\n",
    "print(\"\\nDetailed Model Evaluation:\")\n",
    "for model_name, model in models.items():\n",
    "    model.fit(X_train, y_train)\n",
    "    y_pred = model.predict(X_test)\n",
    "    \n",
    "    # Display results\n",
    "    print(f\"\\n{model_name} Results:\")\n",
    "    print(f\"Accuracy: {accuracy_score(y_test, y_pred):.2f}\")\n",
    "    print(f\"Precision: {precision_score(y_test, y_pred):.2f}\")\n",
    "    print(f\"Recall: {recall_score(y_test, y_pred):.2f}\")\n",
    "    print(f\"F1-Score: {f1_score(y_test, y_pred):.2f}\")\n",
    "    \n",
    "    # AUC Score - Only for models that support it\n",
    "    if hasattr(model, \"predict_proba\"):\n",
    "        y_proba = model.predict_proba(X_test)[:, 1]\n",
    "        print(f\"AUC Score: {roc_auc_score(y_test, y_proba):.2f}\")"
   ]
  }
 ],
 "metadata": {
  "colab": {
   "provenance": []
  },
  "kernelspec": {
   "display_name": "Python 3",
   "language": "python",
   "name": "python3"
  },
  "language_info": {
   "codemirror_mode": {
    "name": "ipython",
    "version": 3
   },
   "file_extension": ".py",
   "mimetype": "text/x-python",
   "name": "python",
   "nbconvert_exporter": "python",
   "pygments_lexer": "ipython3",
   "version": "3.9.6"
  }
 },
 "nbformat": 4,
 "nbformat_minor": 0
}
